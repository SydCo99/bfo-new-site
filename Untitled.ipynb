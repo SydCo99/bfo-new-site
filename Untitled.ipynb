{
 "cells": [
  {
   "cell_type": "code",
   "execution_count": 1,
   "id": "be31b2d9-b38a-4a13-9335-4e1daaae237e",
   "metadata": {},
   "outputs": [],
   "source": [
    "import requests\n",
    "import pandas as pd\n",
    "from config import api_key, user_id\n",
    "from splinter import Browser\n",
    "from bs4 import BeautifulSoup\n",
    "from webdriver_manager.chrome import ChromeDriverManager\n",
    "import time\n",
    "import re"
   ]
  },
  {
   "cell_type": "code",
   "execution_count": 2,
   "id": "915c7aa4-148b-481f-affc-0687e8177e3e",
   "metadata": {},
   "outputs": [],
   "source": [
    "def striphtml(data):\n",
    "    p = re.compile(r'<.*?>')\n",
    "    return p.sub('', data)"
   ]
  },
  {
   "cell_type": "code",
   "execution_count": 3,
   "id": "f1e534be-5b11-4a06-9b66-32dcb3a93da4",
   "metadata": {},
   "outputs": [
    {
     "name": "stdout",
     "output_type": "stream",
     "text": [
      "\n"
     ]
    }
   ],
   "source": [
    "executable_path = {'executable_path': ChromeDriverManager().install()}\n",
    "browser = Browser('chrome', **executable_path, headless=False)\n",
    "url = \"https://philpapers.org/browse/top-level-ontologies?limit=50&newWindow=&publishedOnly=&freeOnly=&catq=barry+smith&hideAbstracts=&langFilter=&filterByAreas=&sqc=&proOnly=on&uncat=&cn=top-level-ontologies&onlineOnly=&cId=492826&categorizerOn=&new=1&start=0&setAside=&sort=pubYear&showCategories=on&format=html&jlist=&ap_c1=&ap_c2=\""
   ]
  },
  {
   "cell_type": "code",
   "execution_count": 4,
   "id": "d24f1f69-c039-4941-aa8e-91a9ea05f315",
   "metadata": {},
   "outputs": [],
   "source": [
    "browser.visit(url)"
   ]
  },
  {
   "cell_type": "code",
   "execution_count": 5,
   "id": "34521e6b-1628-45f6-9ca2-fbbc2a36d987",
   "metadata": {},
   "outputs": [],
   "source": [
    "time.sleep(1)\n"
   ]
  },
  {
   "cell_type": "code",
   "execution_count": 6,
   "id": "151b475c-6b4c-4f8c-8500-e9bfe77b5c72",
   "metadata": {},
   "outputs": [],
   "source": [
    "html = browser.html"
   ]
  },
  {
   "cell_type": "code",
   "execution_count": 7,
   "id": "1b178793-e2a8-46fa-8394-0dcaedc2bad1",
   "metadata": {},
   "outputs": [],
   "source": [
    "soup = BeautifulSoup(html, \"html.parser\")"
   ]
  },
  {
   "cell_type": "code",
   "execution_count": 8,
   "id": "2cb79877-cab2-4a81-a4d2-2d8a9975ad3e",
   "metadata": {},
   "outputs": [],
   "source": [
    "full_citation_list = soup.find_all(\"span\", class_=\"citation\")"
   ]
  },
  {
   "cell_type": "code",
   "execution_count": 9,
   "id": "3b88997e-de58-4efa-b4f8-f0185e4846c5",
   "metadata": {},
   "outputs": [],
   "source": [
    "html = []  \n",
    "for i in range(len(full_citation_list)):\n",
    "    html.append(full_citation_list[i])"
   ]
  },
  {
   "cell_type": "code",
   "execution_count": 10,
   "id": "d2f06eba-ccfb-4241-9c6f-1cffd9a19c34",
   "metadata": {},
   "outputs": [],
   "source": [
    "author_full = []\n",
    "titles = []\n",
    "pub_date = []\n",
    "pub_info = []\n",
    "links = []\n",
    "authors = []\n",
    "titles_full = []\n",
    "pub_info_full = []\n",
    "\n",
    "for entry in html: \n",
    "        author_full.append(entry.find_all(\"span\", class_=\"name\"))\n",
    "        titles_full.append(entry.find(\"span\", class_=\"articleTitle\").text)\n",
    "        pub_date.append(entry.find(\"span\", class_=\"pubYear\").text)\n",
    "        pub_info_full.append(entry.find(\"span\", class_=\"pubInfo\").text)\n",
    "        link = entry.find(\"a\", href=True)\n",
    "        links.append(\"https://philpapers.org\" + link[\"href\"])\n"
   ]
  },
  {
   "cell_type": "code",
   "execution_count": 11,
   "id": "4ab537e0-e66b-4b8e-a7ac-3c0008dd1a1e",
   "metadata": {},
   "outputs": [],
   "source": [
    "for i in range(len(pub_info_full)): \n",
    "    line = pub_info_full[i]\n",
    "    line = line.replace('.','')\n",
    "    pub_info.append(line)\n",
    "    i += 1\n",
    "for i in range(len(titles_full)): \n",
    "    line = titles_full[i]\n",
    "    line = line.replace('.','')\n",
    "    titles.append(line)\n",
    "    i += 1\n",
    "\n",
    "author_full = list(map(str, author_full))\n",
    "for i in range(len(author_full)): \n",
    "    line = striphtml(author_full[i])\n",
    "    #line = line.replace(', ', ',')\n",
    "    line = line.replace(' ]', ']')\n",
    "\n",
    "    authors.append(line)\n",
    "    i += 1\n",
    "\n",
    "for i in range(len(authors)):\n",
    "    authors[i] = authors[i].strip('][').split(',')"
   ]
  },
  {
   "cell_type": "code",
   "execution_count": 12,
   "id": "9febb226-5159-4d8a-a737-1e7c71b1ec25",
   "metadata": {},
   "outputs": [],
   "source": [
    "phil_authors = []\n",
    "phil_titles = []\n",
    "phil_pub_date = []\n",
    "phil_pub_info = []\n",
    "phil_links = []"
   ]
  },
  {
   "cell_type": "code",
   "execution_count": 13,
   "id": "570e5f0b-ba32-4cf8-a3b8-8dc0ccb6d114",
   "metadata": {},
   "outputs": [],
   "source": [
    "\n",
    "\n",
    "phil_authors = authors\n",
    "phil_titles = titles \n",
    "phil_pub_date = pub_date \n",
    "phil_pub_info = pub_info \n",
    "phil_links = links \n",
    "\n"
   ]
  },
  {
   "cell_type": "code",
   "execution_count": 14,
   "id": "160fd431-c444-4533-91f9-a69161068c95",
   "metadata": {},
   "outputs": [],
   "source": [
    "browser.quit()"
   ]
  },
  {
   "cell_type": "code",
   "execution_count": 15,
   "id": "009a672d-e461-478b-9d8f-43a8c5638837",
   "metadata": {},
   "outputs": [],
   "source": [
    "time.sleep(1)\n"
   ]
  },
  {
   "cell_type": "code",
   "execution_count": 16,
   "id": "d7fb5c1e-040a-4c3a-9836-7c3e0993a254",
   "metadata": {},
   "outputs": [
    {
     "name": "stdout",
     "output_type": "stream",
     "text": [
      "\n"
     ]
    }
   ],
   "source": [
    "executable_path = {'executable_path': ChromeDriverManager().install()}\n",
    "browser = Browser('chrome', **executable_path, headless=False)\n",
    "    "
   ]
  },
  {
   "cell_type": "code",
   "execution_count": 17,
   "id": "e33b7d39-8631-4454-b231-a3d50bd3d884",
   "metadata": {},
   "outputs": [],
   "source": [
    "url = \"https://www.scilit.net/articles/search?facets__language%5B0%5D=English&highlight=1&q=%22basic%20formal%20ontology%22&sort=Newest&nb_articles=500\""
   ]
  },
  {
   "cell_type": "code",
   "execution_count": 18,
   "id": "72934da5-f0fe-4a60-b92d-23fb610be686",
   "metadata": {},
   "outputs": [],
   "source": [
    "browser.visit(url)"
   ]
  },
  {
   "cell_type": "code",
   "execution_count": 19,
   "id": "94d5eb4f-6131-442c-9820-943b05c833c5",
   "metadata": {},
   "outputs": [],
   "source": [
    "time.sleep(1)\n"
   ]
  },
  {
   "cell_type": "code",
   "execution_count": 20,
   "id": "8e903507-376d-4cda-b0d5-709810869e6e",
   "metadata": {},
   "outputs": [],
   "source": [
    "html = browser.html\n",
    "    "
   ]
  },
  {
   "cell_type": "code",
   "execution_count": 21,
   "id": "9d7b1f4a-4c28-49db-9b17-652163c98f1d",
   "metadata": {},
   "outputs": [],
   "source": [
    "soup = BeautifulSoup(html, \"html.parser\")"
   ]
  },
  {
   "cell_type": "code",
   "execution_count": 22,
   "id": "a35dad1b-d077-4ae0-bb18-c7b2bcbebcff",
   "metadata": {},
   "outputs": [],
   "source": [
    "full_citation_list = soup.find_all(\"div\", class_=\"result\")"
   ]
  },
  {
   "cell_type": "code",
   "execution_count": 23,
   "id": "60c0c21f-ef14-4571-81c2-d4bf4350c6ee",
   "metadata": {},
   "outputs": [],
   "source": [
    "html = []  \n",
    "for i in range(len(full_citation_list)):\n",
    "    html.append(full_citation_list[i])"
   ]
  },
  {
   "cell_type": "code",
   "execution_count": 24,
   "id": "32a050c3-30e7-4657-a46d-ff2c82c1b8cd",
   "metadata": {},
   "outputs": [],
   "source": [
    "authors = []\n",
    "titles = []\n",
    "titles_full = []\n",
    "pub_date = []\n",
    "pub_info = []\n",
    "links = []\n",
    "author_full = []\n",
    "pub_date_full = []\n",
    "pub_info_full = []\n",
    "links_full = []"
   ]
  },
  {
   "cell_type": "code",
   "execution_count": 25,
   "id": "fb01b715-5a44-496d-b7db-a07459a146d6",
   "metadata": {},
   "outputs": [],
   "source": [
    "for entry in html: \n",
    "    author_full.append(entry.find_all(\"div\", class_=\"authors\"))\n",
    "    titles_full.append(entry.find(\"div\", class_=\"title\").text)\n",
    "    pub_date_full.append(entry.find(\"div\", class_=\"pubdate\").text)\n",
    "    pub_info_full.append(entry.find(\"div\", class_=\"publisher\"))\n",
    "    #links.append(entry.find(\"div\", class_=\"doilink\"))\n",
    "    link = entry.find(\"a\", href=True)\n",
    "    links_full.append(link)    "
   ]
  },
  {
   "cell_type": "code",
   "execution_count": 26,
   "id": "b4661ae8-5244-4be0-8fd6-ee1cc18517b6",
   "metadata": {},
   "outputs": [],
   "source": [
    "for i in range(len(links_full)):\n",
    "        link = links_full[i][\"href\"]\n",
    "        links.append(\"https://www.scilit.net\"+ link)\n",
    "        i =+ 1"
   ]
  },
  {
   "cell_type": "code",
   "execution_count": 27,
   "id": "7cbc918b-c1cd-4dd2-83c4-b067e7b83ed5",
   "metadata": {},
   "outputs": [],
   "source": [
    "pub_info_full = list(map(str, pub_info_full))\n",
    "for i in range(len(pub_info_full)):\n",
    "    line = striphtml(pub_info_full[i])\n",
    "    line = line.replace('by\\n', '')\n",
    "    line = line.replace('\\n', '')\n",
    "    pub_info.append(line)\n",
    "    i += 1"
   ]
  },
  {
   "cell_type": "code",
   "execution_count": 28,
   "id": "6e05937b-5523-4c88-9a2c-41edba9697df",
   "metadata": {},
   "outputs": [],
   "source": [
    "for i in range(len(pub_date_full)):\n",
    "    line = pub_date_full[i]\n",
    "    line = line.replace('Published: ', '')\n",
    "    pub_date.append(line)\n",
    "    i += 1\n",
    "\n",
    "for i in range(len(titles_full)):\n",
    "    line = titles_full[i]\n",
    "    line = line.replace('\\n', '')\n",
    "    titles.append(line)\n",
    "    i += 1\n",
    "author_full = list(map(str, author_full))\n",
    "for i in range(len(author_full)): \n",
    "    line = striphtml(author_full[i])\n",
    "    line = line.replace('\\n', '')\n",
    "    #line = line.replace(', ', ',')\n",
    "    line = line.replace(' ]', ']')\n",
    "\n",
    "    authors.append(line)\n",
    "    i += 1"
   ]
  },
  {
   "cell_type": "code",
   "execution_count": 29,
   "id": "f4a11399-9958-4ab6-b9d8-f4da5fbf82ad",
   "metadata": {},
   "outputs": [],
   "source": [
    "for i in range(len(authors)):\n",
    "    authors[i] = authors[i].strip('][').split(',')"
   ]
  },
  {
   "cell_type": "code",
   "execution_count": null,
   "id": "733b2274-2dff-483f-8412-7074eed54dda",
   "metadata": {},
   "outputs": [],
   "source": []
  },
  {
   "cell_type": "code",
   "execution_count": 30,
   "id": "31741109-24a1-42c6-8076-76a79052cef4",
   "metadata": {},
   "outputs": [],
   "source": [
    "for x in phil_authors:\n",
    "    authors.append(x)\n",
    "for x in phil_titles:\n",
    "    titles.append(x)\n",
    "for x in phil_pub_date:\n",
    "    pub_date.append(x)\n",
    "for x in phil_pub_info:\n",
    "    pub_info.append(x)\n",
    "for x in phil_links: \n",
    "    links.append(x)\n"
   ]
  },
  {
   "cell_type": "code",
   "execution_count": 31,
   "id": "38065dbb-a9b8-4dce-80b8-f9d4cf4bab86",
   "metadata": {},
   "outputs": [
    {
     "name": "stdout",
     "output_type": "stream",
     "text": [
      "149\n",
      "149\n",
      "149\n",
      "149\n",
      "149\n"
     ]
    }
   ],
   "source": [
    "print(len(authors))\n",
    "print(len(titles))\n",
    "print(len(pub_date))\n",
    "print(len(pub_info))\n",
    "print(len(links))"
   ]
  },
  {
   "cell_type": "code",
   "execution_count": 33,
   "id": "74d5a6eb-d743-449a-82fa-d86dc7fcc883",
   "metadata": {},
   "outputs": [],
   "source": [
    "articles = {}\n",
    "articles[\"Authors\"] = authors\n",
    "articles[\"Title\"] = titles\n",
    "articles[\"Date\"] = pub_date\n",
    "articles[\"Publication\"] = pub_info\n",
    "articles[\"Link\"] = links"
   ]
  },
  {
   "cell_type": "code",
   "execution_count": 52,
   "id": "6e856f1d-f709-42e2-957e-d2c4f0d6a4bc",
   "metadata": {
    "scrolled": true,
    "tags": []
   },
   "outputs": [
    {
     "ename": "KeyError",
     "evalue": "'author'",
     "output_type": "error",
     "traceback": [
      "\u001b[1;31m---------------------------------------------------------------------------\u001b[0m",
      "\u001b[1;31mKeyError\u001b[0m                                  Traceback (most recent call last)",
      "\u001b[1;32m~\\AppData\\Local\\Temp/ipykernel_29688/1526628837.py\u001b[0m in \u001b[0;36m<module>\u001b[1;34m\u001b[0m\n\u001b[1;32m----> 1\u001b[1;33m \u001b[0marticles\u001b[0m\u001b[1;33m[\u001b[0m\u001b[1;34m\"author\"\u001b[0m\u001b[1;33m]\u001b[0m\u001b[1;33m\u001b[0m\u001b[1;33m\u001b[0m\u001b[0m\n\u001b[0m",
      "\u001b[1;31mKeyError\u001b[0m: 'author'"
     ]
    }
   ],
   "source": [
    "articles[\"author\"]"
   ]
  },
  {
   "cell_type": "code",
   "execution_count": null,
   "id": "a6fbbde6-f7ba-4ad1-a765-ea16eceec63e",
   "metadata": {},
   "outputs": [],
   "source": []
  },
  {
   "cell_type": "code",
   "execution_count": 40,
   "id": "7664c83f-33a7-43f9-a9a5-632369b3400e",
   "metadata": {},
   "outputs": [],
   "source": [
    "browser.quit()"
   ]
  },
  {
   "cell_type": "code",
   "execution_count": 44,
   "id": "7c3281d8-81da-4fee-8ead-86376a53d6a7",
   "metadata": {},
   "outputs": [],
   "source": [
    "from flask import Flask, render_template, redirect, jsonify\n",
    "from flask_pymongo import PyMongo"
   ]
  },
  {
   "cell_type": "code",
   "execution_count": 48,
   "id": "533378c4-fffd-49c3-a329-5db99d48a119",
   "metadata": {},
   "outputs": [],
   "source": [
    "import requests\n",
    "import os\n",
    "from splinter import Browser\n",
    "from selenium import webdriver\n",
    "app = Flask(__name__, static_folder = \"assets\")\n",
    "\n",
    "app.config[\"MONGO_URI\"] = \"mongodb://localhost:27017/bfo_papers\"\n",
    "mongo = PyMongo(app)"
   ]
  },
  {
   "cell_type": "code",
   "execution_count": 57,
   "id": "bb84b27a-fee5-4952-b109-231f8640cb2f",
   "metadata": {},
   "outputs": [],
   "source": [
    "bfo_papers = mongo.db.bfo_papers"
   ]
  },
  {
   "cell_type": "code",
   "execution_count": 60,
   "id": "0e6dfc74-b7c3-4c31-a693-8f073edd0d51",
   "metadata": {},
   "outputs": [
    {
     "data": {
      "text/plain": [
       "<pymongo.results.UpdateResult at 0x1faa44f11f0>"
      ]
     },
     "execution_count": 60,
     "metadata": {},
     "output_type": "execute_result"
    }
   ],
   "source": [
    "bfo_papers.update_many({}, {\"$set\": articles}, upsert=True) "
   ]
  },
  {
   "cell_type": "code",
   "execution_count": null,
   "id": "96018567-69c8-40dd-9291-2e9276ffc683",
   "metadata": {},
   "outputs": [],
   "source": []
  }
 ],
 "metadata": {
  "kernelspec": {
   "display_name": "Python 3 (ipykernel)",
   "language": "python",
   "name": "python3"
  },
  "language_info": {
   "codemirror_mode": {
    "name": "ipython",
    "version": 3
   },
   "file_extension": ".py",
   "mimetype": "text/x-python",
   "name": "python",
   "nbconvert_exporter": "python",
   "pygments_lexer": "ipython3",
   "version": "3.9.7"
  }
 },
 "nbformat": 4,
 "nbformat_minor": 5
}
