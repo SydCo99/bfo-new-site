{
 "cells": [
  {
   "cell_type": "code",
   "execution_count": 1,
   "id": "7e39d958-252a-4278-bdbf-ce9492cb59ef",
   "metadata": {},
   "outputs": [],
   "source": [
    "import requests\n",
    "import pandas as pd\n",
    "from config import api_key, user_id\n",
    "from splinter import Browser\n",
    "from bs4 import BeautifulSoup\n",
    "from webdriver_manager.chrome import ChromeDriverManager\n",
    "import time"
   ]
  },
  {
   "cell_type": "code",
   "execution_count": 2,
   "id": "b753b88b-e8ac-4da5-bc7f-f32d29fcbfe9",
   "metadata": {},
   "outputs": [
    {
     "name": "stdout",
     "output_type": "stream",
     "text": [
      "\n"
     ]
    }
   ],
   "source": [
    "executable_path = {'executable_path': ChromeDriverManager().install()}\n",
    "browser = Browser('chrome', **executable_path, headless=False)"
   ]
  },
  {
   "cell_type": "code",
   "execution_count": 3,
   "id": "29483dcd-28b0-47a3-b7c4-b0b4fbe82846",
   "metadata": {},
   "outputs": [],
   "source": [
    "articles = {}"
   ]
  },
  {
   "cell_type": "code",
   "execution_count": 4,
   "id": "a6b9ef8d-9019-411a-84bf-f636943f73a7",
   "metadata": {},
   "outputs": [],
   "source": [
    "url = \"https://philpapers.org/browse/top-level-ontologies\""
   ]
  },
  {
   "cell_type": "code",
   "execution_count": 5,
   "id": "0f130df3-07af-4f83-bf69-58d10caf676e",
   "metadata": {},
   "outputs": [],
   "source": [
    "browser.visit(url)"
   ]
  },
  {
   "cell_type": "code",
   "execution_count": 6,
   "id": "30d71501-5ed6-4c15-9f29-2980940a2095",
   "metadata": {},
   "outputs": [],
   "source": [
    "time.sleep(1)"
   ]
  },
  {
   "cell_type": "code",
   "execution_count": 7,
   "id": "3f70f116-099b-4266-859a-57c12284170b",
   "metadata": {},
   "outputs": [],
   "source": [
    "html = browser.html"
   ]
  },
  {
   "cell_type": "code",
   "execution_count": 8,
   "id": "97719c0d-6be9-42cb-9e23-b3d8889bc90a",
   "metadata": {},
   "outputs": [],
   "source": [
    "soup = BeautifulSoup(html, \"html.parser\")"
   ]
  },
  {
   "cell_type": "code",
   "execution_count": 9,
   "id": "5477f894-e81e-42e0-a86f-74692ed4c578",
   "metadata": {
    "scrolled": true,
    "tags": []
   },
   "outputs": [
    {
     "data": {
      "text/plain": [
       "[<span class=\"citation\"><a href=\"/rec/AUGCAF\"><span class=\"articleTitle recTitle\">Categories and Foundational Ontology: A Medieval Tutorial.</span></a><a class=\"discreet\" href=\"/s/Luis M.%20Augusto\" title=\"View other works by Luis M. Augusto\"><span class=\"name\">Luis M. Augusto</span></a> - <span class=\"pubYear\">2022</span> - <span class=\"pubInfo\"> <em class=\"pubName\">Journal of Knowledge Structures and Systems</em> 3 (1):1-56.</span></span>,\n",
       " <span class=\"citation\"><a href=\"/rec/AUGTBO-3\"><span class=\"articleTitle recTitle\">To Be or Not to Be Informed, That is the Question of O/Ontology.</span></a><a class=\"discreet\" href=\"/s/Luis M.%20Augusto\" title=\"View other works by Luis M. Augusto\"><span class=\"name\">Luis M. Augusto</span></a> - <span class=\"pubYear\">2022</span> - <span class=\"pubInfo\"> <em class=\"pubName\">Journal of Knowledge Structures and Systems</em> 3 (3):3-49.</span></span>,\n",
       " <span class=\"citation\"><a href=\"/rec/DANFAM-3\"><span class=\"articleTitle recTitle\">FORT: A Minimal Foundational Ontological Relations Theory for Conceptual Modeling Tasks.</span></a><a class=\"discreet\" href=\"/s/Fatima%20Danash\" title=\"View other works by Fatima Danash\"><span class=\"name\">Fatima Danash</span></a> &amp; <a class=\"discreet\" href=\"/s/Danielle%20Ziebelin\" title=\"View other works by Danielle Ziebelin\"><span class=\"name\">Danielle Ziebelin</span></a> - <span class=\"pubYear\">2022</span> - <span class=\"pubInfo\"> <em>41st International Conference on Conceptual Modeling</em>.</span></span>,\n",
       " <span class=\"citation\"><a href=\"/rec/GUIOTA\"><span class=\"articleTitle recTitle\">On the Adequacy of Requirements for Foundational Ontologies.</span></a><a class=\"discreet\" href=\"/s/Giancarlo%20Guizzardi\" title=\"View other works by Giancarlo Guizzardi\"><span class=\"name\">Giancarlo Guizzardi</span></a> &amp; <a class=\"discreet\" href=\"/s/Riccardo%20Baratella\" title=\"View other works by Riccardo Baratella\"><span class=\"name\">Riccardo Baratella</span></a> - <span class=\"pubYear\">2022</span> - <span class=\"pubInfo\"> <em class=\"pubName\">Journal of Knowledge Structures and Systems</em> 3 (1):76-81.</span></span>,\n",
       " <span class=\"citation\"><a href=\"/rec/PORUUF\"><span class=\"articleTitle recTitle\">UFO: Unified Foundational Ontology.</span></a><a class=\"discreet\" href=\"/s/Giancarlo%20Guizzardi\" title=\"View other works by Giancarlo Guizzardi\"><span class=\"name\">Giancarlo Guizzardi</span></a>, <a class=\"discreet\" href=\"/s/Alessander Bottes%20Benevides\" title=\"View other works by Alessander Bottes Benevides\"><span class=\"name\">Alessander Bottes Benevides</span></a>, <a class=\"discreet\" href=\"/s/Claudemir M.%20Fonseca\" title=\"View other works by Claudemir M. Fonseca\"><span class=\"name\">Claudemir M. Fonseca</span></a>, <a class=\"discreet\" href=\"/s/João Paulo A.%20Almeida\" title=\"View other works by João Paulo A. Almeida\"><span class=\"name\">João Paulo A. Almeida</span></a>, <a class=\"discreet\" href=\"/s/Tiago Prince%20Sales\" title=\"View other works by Tiago Prince Sales\"><span class=\"name\">Tiago Prince Sales</span></a> &amp; <a class=\"discreet\" href=\"/s/Daniele%20Porello\" title=\"View other works by Daniele Porello\"><span class=\"name\">Daniele Porello</span></a> - <span class=\"pubYear\">2022</span> - <span class=\"pubInfo\"> <em class=\"pubName\">Applied ontology</em> 1 (17):167-210.</span></span>,\n",
       " <span class=\"citation\"><a href=\"/rec/AUGTBO-2\"><span class=\"articleTitle recTitle\">The Birth of Ontology.</span></a><a class=\"discreet\" href=\"/s/Barry%20Smith\" title=\"View other works by Barry Smith\"><span class=\"name\">Barry Smith</span></a> - <span class=\"pubYear\">2022</span> - <span class=\"pubInfo\"> <em class=\"pubName\">Journal of Knowledge Structures and Systems</em> 3 (1):57-66.</span></span>,\n",
       " <span class=\"citation\"><a href=\"/rec/SMIOIT-3\"><span class=\"articleTitle recTitle\">Ontocommons in the Standardization Environment.</span></a><a class=\"discreet\" href=\"/s/Barry%20Smith\" title=\"View other works by Barry Smith\"><span class=\"name\">Barry Smith</span></a> &amp; <a class=\"discreet\" href=\"/s/Rita%20Giuffrida\" title=\"View other works by Rita Giuffrida\"><span class=\"name\">Rita Giuffrida</span></a> - <span class=\"pubYear\">2022</span> - <span class=\"pubInfo\"> <em>OntoCommons</em>.</span></span>,\n",
       " <span class=\"citation\"><a href=\"/rec/MASPCA-4\"><span class=\"articleTitle recTitle\">Pluralities, Collectives, and Composites.</span></a><a class=\"discreet\" href=\"/s/Claudio%20Masolo\" title=\"View other works by Claudio Masolo\"><span class=\"name\">Claudio Masolo</span></a>, <a class=\"discreet\" href=\"/s/Laure%20Vieu\" title=\"View other works by Laure Vieu\"><span class=\"name\">Laure Vieu</span></a>, <a class=\"discreet\" href=\"/s/Stefano%20Borgo\" title=\"View other works by Stefano Borgo\"><span class=\"name\">Stefano Borgo</span></a>, <a class=\"discreet\" href=\"/s/Roberta%20Ferrario\" title=\"View other works by Roberta Ferrario\"><span class=\"name\">Roberta Ferrario</span></a> &amp; <a class=\"discreet\" href=\"/s/Daniele%20Porello\" title=\"View other works by Daniele Porello\"><span class=\"name\">Daniele Porello</span></a> - <span class=\"pubYear\">2020</span> - <span class=\"pubInfo\"> In Boyan Brodaric &amp; Fabian Neuhaus (eds.), <em><a href=\"https://philpapers.org/rec/BROFOI-2\">Formal Ontology in Information Systems - Proceedings of the 11th International Conference, {FOIS} 2020, Cancelled / Bozen-Bolzano, Italy, September 14-17, 2020. Frontiers in Artificial Intelligence and Applications 330.</a></em> pp. 186-200.</span></span>,\n",
       " <span class=\"citation\"><a href=\"/rec/PORACO-6\"><span class=\"articleTitle recTitle\">A Core Ontology for Economic Exchanges.</span></a><a class=\"discreet\" href=\"/s/Daniele%20Porello\" title=\"View other works by Daniele Porello\"><span class=\"name\">Daniele Porello</span></a>, <a class=\"discreet\" href=\"/s/Giancarlo%20Guizzardi\" title=\"View other works by Giancarlo Guizzardi\"><span class=\"name\">Giancarlo Guizzardi</span></a>, <a class=\"discreet\" href=\"/s/Tiago Prince%20Sales\" title=\"View other works by Tiago Prince Sales\"><span class=\"name\">Tiago Prince Sales</span></a> &amp; <a class=\"discreet\" href=\"/s/Glenda C. M.%20Amaral\" title=\"View other works by Glenda C. M. Amaral\"><span class=\"name\">Glenda C. M. Amaral</span></a> - <span class=\"pubYear\">2020</span> - <span class=\"pubInfo\"> In Gillian Dobbie, Ulrich Frank, Gerti Kappel, Stephen W. Liddle &amp; Heinrich C. Mayr (eds.), <em><a href=\"https://philpapers.org/rec/DOBCM\">Conceptual Modeling - 39th International Conference, {ER} 2020, Vienna, Austria, November 3-6, 2020, Proceedings. Lecture Notes in Computer Science 12400</a></em>. pp. 364-374.</span></span>,\n",
       " <span class=\"citation\"><a href=\"/rec/SMIOAP-5\"><span class=\"articleTitle recTitle\">Ontology as Product-Service System: Lessons Learned From GO, BFO and DOLCE.</span></a><a class=\"discreet\" href=\"/s/Barry%20Smith\" title=\"View other works by Barry Smith\"><span class=\"name\">Barry Smith</span></a> - <span class=\"pubYear\">2019</span> - <span class=\"pubInfo\"> In <em><a href=\"https://philpapers.org/rec/LIMPOT-2\">Proceedings of the 10th International Conference on Biomedical Ontology (ICBO), Buffalo, NY</a></em>.</span></span>,\n",
       " <span class=\"citation\"><a href=\"/rec/SMIAFL-3\"><span class=\"articleTitle recTitle\">A First-Order Logic Formalization of the Industrial Ontology Foundry Signature Using Basic Formal Ontology.</span></a><a class=\"discreet\" href=\"/s/Barry%20Smith\" title=\"View other works by Barry Smith\"><span class=\"name\">Barry Smith</span></a>, <a class=\"discreet\" href=\"/s/Farhad%20Ameri\" title=\"View other works by Farhad Ameri\"><span class=\"name\">Farhad Ameri</span></a>, <a class=\"discreet\" href=\"/s/Hyunmin%20Cheong\" title=\"View other works by Hyunmin Cheong\"><span class=\"name\">Hyunmin Cheong</span></a>, <a class=\"discreet\" href=\"/s/Dimitris%20Kiritsis\" title=\"View other works by Dimitris Kiritsis\"><span class=\"name\">Dimitris Kiritsis</span></a>, <a class=\"discreet\" href=\"/s/Dusan%20Sormaz\" title=\"View other works by Dusan Sormaz\"><span class=\"name\">Dusan Sormaz</span></a>, <a class=\"discreet\" href=\"/s/Chris%20Will\" title=\"View other works by Chris Will\"><span class=\"name\">Chris Will</span></a> &amp; <a class=\"discreet\" href=\"/s/J. Neil%20Otte\" title=\"View other works by J. Neil Otte\"><span class=\"name\">J. Neil Otte</span></a> - <span class=\"pubYear\">2019</span> - <span class=\"pubInfo\"> In <em><a href=\"https://philpapers.org/rec/SMIPO-3\">Proceedings of the Joint Ontology Workshops (JOWO), Graz</a></em>.</span></span>,\n",
       " <span class=\"citation\"><a href=\"/rec/GREPGR\"><span class=\"articleTitle recTitle\">Permanent Generic Relatedness and Silent Change.</span></a><a class=\"discreet\" href=\"/s/Niels%20Grewe\" title=\"View other works by Niels Grewe\"><span class=\"name\">Niels Grewe</span></a>, <a class=\"discreet\" href=\"/s/Ludger%20Jansen\" title=\"View other works by Ludger Jansen\"><span class=\"name\">Ludger Jansen</span></a> &amp; <a class=\"discreet\" href=\"/s/Barry%20Smith\" title=\"View other works by Barry Smith\"><span class=\"name\">Barry Smith</span></a> - <span class=\"pubYear\">2016</span> - <span class=\"pubInfo\"> In <em><a href=\"https://philpapers.org/rec/GREFOA-3\">Formal Ontology and Information Systems</a></em>. CEUR, Vol. 1060. pp. 1-5.</span></span>,\n",
       " <span class=\"citation\"><a href=\"/rec/ONGOAB\"><span class=\"articleTitle recTitle\">Ontobull and BFOConvert: Web-Based Programs to Support Automatic Ontology Conversion.</span></a><a class=\"discreet\" href=\"/s/Ong Edison:%20Xiang\" title=\"View other works by Ong Edison: Xiang\"><span class=\"name\">Ong Edison: Xiang</span></a>, <a class=\"discreet\" href=\"/s/Zheng%20Jie\" title=\"View other works by Zheng Jie\"><span class=\"name\">Zheng Jie</span></a>, <a class=\"discreet\" href=\"/s/Barry%20Smith\" title=\"View other works by Barry Smith\"><span class=\"name\">Barry Smith</span></a> &amp; <a class=\"discreet\" href=\"/s/He%20Yongqun\" title=\"View other works by He Yongqun\"><span class=\"name\">He Yongqun</span></a> - <span class=\"pubYear\">2016</span> - <span class=\"pubInfo\"> <em class=\"pubName\">Proceedings of the Joint International Conference on Biological Ontology and Biocreative</em> 1747.</span></span>,\n",
       " <span class=\"citation\"><a href=\"/rec/ARPBOW\"><span class=\"pub_name recTitle\"><span class=\"articleTitle recTitle\">Building Ontologies with Basic Formal Ontology.</span></span></a><a class=\"discreet\" href=\"/s/Robert%20Arp\" title=\"View other works by Robert Arp\"><span class=\"name\">Robert Arp</span></a>, <a class=\"discreet\" href=\"/s/Barry%20Smith\" title=\"View other works by Barry Smith\"><span class=\"name\">Barry Smith</span></a> &amp; <a class=\"discreet\" href=\"/s/Andrew D.%20Spear\" title=\"View other works by Andrew D. Spear\"><span class=\"name\">Andrew D. Spear</span></a> - <span class=\"pubYear\">2015</span> - <span class=\"pubInfo\"> Cambridge, MA: MIT Press.</span></span>,\n",
       " <span class=\"citation\"><a href=\"/rec/SMIFFF\"><span class=\"articleTitle recTitle\">Framework for Formal Ontology.</span></a><a class=\"discreet\" href=\"/s/Barry%20Smith\" title=\"View other works by Barry Smith\"><span class=\"name\">Barry Smith</span></a> &amp; <a class=\"discreet\" href=\"/s/Kevin%20Mulligan\" title=\"View other works by Kevin Mulligan\"><span class=\"name\">Kevin Mulligan</span></a> - <span class=\"pubYear\">1983</span> - <span class=\"pubInfo\"> <em class=\"pubName\">Topoi</em> 2 (1):73-85.</span></span>]"
      ]
     },
     "execution_count": 9,
     "metadata": {},
     "output_type": "execute_result"
    }
   ],
   "source": [
    "full_citation_list = soup.find_all(\"span\", class_=\"citation\")\n",
    "full_citation_list"
   ]
  },
  {
   "cell_type": "code",
   "execution_count": 10,
   "id": "9944b9c4-656d-4b60-a185-5a53d568bf38",
   "metadata": {},
   "outputs": [],
   "source": [
    "html = []  \n",
    "for i in range(len(full_citation_list)):\n",
    "    html.append(full_citation_list[i])"
   ]
  },
  {
   "cell_type": "code",
   "execution_count": 11,
   "id": "ac5a605b-7c8d-4e52-bf58-d19493ed8fc7",
   "metadata": {
    "scrolled": true,
    "tags": []
   },
   "outputs": [],
   "source": [
    "authors = []\n",
    "titles = []\n",
    "pub_date = []\n",
    "pub_info = []\n",
    "links = []\n",
    "\n",
    "for entry in html: \n",
    "    #for hit in entry.find_all(\"span\", class_=\"name\"): \n",
    "        #authors.append(hit.contents[0].strip())\n",
    "    # for author in entry.find_all(\"span\", class_=\"name\"):\n",
    "    #     authors.append(''.join(author.findAll(text=True)))\n",
    "    authors.append(entry.find_all(\"span\", class_=\"name\"))\n",
    "    titles.append(entry.find(\"span\", class_=\"articleTitle\").text)\n",
    "    pub_date.append(entry.find(\"span\", class_=\"pubYear\").text)\n",
    "    pub_info.append(entry.find(\"span\", class_=\"pubInfo\").text)\n",
    "    link = entry.find(\"a\", href=True)\n",
    "    links.append(\"https://philpapers.org\" + link[\"href\"])\n",
    "    \n",
    "    \n"
   ]
  },
  {
   "cell_type": "code",
   "execution_count": 12,
   "id": "81a43653-9b25-47da-8435-bcecabf58646",
   "metadata": {},
   "outputs": [],
   "source": [
    "entries = []\n",
    "\n",
    "for publication in range(len(titles)):\n",
    "    case = {\"author\": authors[publication], \"title\": titles[publication], \"pub_date\": pub_date[publication],\n",
    "            \"pub_info\": pub_info[publication], \"links\": links[publication]}\n",
    "    entries.append(case)\n",
    "    # entries[\"author\"].update(authors[publication])\n",
    "    # entries[\"title\"] = titles[publication]\n",
    "    # entries[\"pub_date\"] = pub_date[publication]\n",
    "    # entries[\"pub_name\"] = pub_name[publication]\n",
    "    # entries[\"links\"] = links[publication]\n",
    "    \n",
    "    \n",
    "    "
   ]
  },
  {
   "cell_type": "code",
   "execution_count": 13,
   "id": "678fc563-b59b-48b6-b37f-57a9521dd856",
   "metadata": {},
   "outputs": [
    {
     "data": {
      "text/plain": [
       "[{'author': [<span class=\"name\">Luis M. Augusto</span>],\n",
       "  'title': 'Categories and Foundational Ontology: A Medieval Tutorial.',\n",
       "  'pub_date': '2022',\n",
       "  'pub_info': ' Journal of Knowledge Structures and Systems 3 (1):1-56.',\n",
       "  'links': 'https://philpapers.org/rec/AUGCAF'},\n",
       " {'author': [<span class=\"name\">Luis M. Augusto</span>],\n",
       "  'title': 'To Be or Not to Be Informed, That is the Question of O/Ontology.',\n",
       "  'pub_date': '2022',\n",
       "  'pub_info': ' Journal of Knowledge Structures and Systems 3 (3):3-49.',\n",
       "  'links': 'https://philpapers.org/rec/AUGTBO-3'},\n",
       " {'author': [<span class=\"name\">Fatima Danash</span>,\n",
       "   <span class=\"name\">Danielle Ziebelin</span>],\n",
       "  'title': 'FORT: A Minimal Foundational Ontological Relations Theory for Conceptual Modeling Tasks.',\n",
       "  'pub_date': '2022',\n",
       "  'pub_info': ' 41st International Conference on Conceptual Modeling.',\n",
       "  'links': 'https://philpapers.org/rec/DANFAM-3'},\n",
       " {'author': [<span class=\"name\">Giancarlo Guizzardi</span>,\n",
       "   <span class=\"name\">Riccardo Baratella</span>],\n",
       "  'title': 'On the Adequacy of Requirements for Foundational Ontologies.',\n",
       "  'pub_date': '2022',\n",
       "  'pub_info': ' Journal of Knowledge Structures and Systems 3 (1):76-81.',\n",
       "  'links': 'https://philpapers.org/rec/GUIOTA'},\n",
       " {'author': [<span class=\"name\">Giancarlo Guizzardi</span>,\n",
       "   <span class=\"name\">Alessander Bottes Benevides</span>,\n",
       "   <span class=\"name\">Claudemir M. Fonseca</span>,\n",
       "   <span class=\"name\">João Paulo A. Almeida</span>,\n",
       "   <span class=\"name\">Tiago Prince Sales</span>,\n",
       "   <span class=\"name\">Daniele Porello</span>],\n",
       "  'title': 'UFO: Unified Foundational Ontology.',\n",
       "  'pub_date': '2022',\n",
       "  'pub_info': ' Applied ontology 1 (17):167-210.',\n",
       "  'links': 'https://philpapers.org/rec/PORUUF'},\n",
       " {'author': [<span class=\"name\">Barry Smith</span>],\n",
       "  'title': 'The Birth of Ontology.',\n",
       "  'pub_date': '2022',\n",
       "  'pub_info': ' Journal of Knowledge Structures and Systems 3 (1):57-66.',\n",
       "  'links': 'https://philpapers.org/rec/AUGTBO-2'},\n",
       " {'author': [<span class=\"name\">Barry Smith</span>,\n",
       "   <span class=\"name\">Rita Giuffrida</span>],\n",
       "  'title': 'Ontocommons in the Standardization Environment.',\n",
       "  'pub_date': '2022',\n",
       "  'pub_info': ' OntoCommons.',\n",
       "  'links': 'https://philpapers.org/rec/SMIOIT-3'},\n",
       " {'author': [<span class=\"name\">Claudio Masolo</span>,\n",
       "   <span class=\"name\">Laure Vieu</span>,\n",
       "   <span class=\"name\">Stefano Borgo</span>,\n",
       "   <span class=\"name\">Roberta Ferrario</span>,\n",
       "   <span class=\"name\">Daniele Porello</span>],\n",
       "  'title': 'Pluralities, Collectives, and Composites.',\n",
       "  'pub_date': '2020',\n",
       "  'pub_info': ' In Boyan Brodaric & Fabian Neuhaus (eds.), Formal Ontology in Information Systems - Proceedings of the 11th International Conference, {FOIS} 2020, Cancelled / Bozen-Bolzano, Italy, September 14-17, 2020. Frontiers in Artificial Intelligence and Applications 330. pp. 186-200.',\n",
       "  'links': 'https://philpapers.org/rec/MASPCA-4'},\n",
       " {'author': [<span class=\"name\">Daniele Porello</span>,\n",
       "   <span class=\"name\">Giancarlo Guizzardi</span>,\n",
       "   <span class=\"name\">Tiago Prince Sales</span>,\n",
       "   <span class=\"name\">Glenda C. M. Amaral</span>],\n",
       "  'title': 'A Core Ontology for Economic Exchanges.',\n",
       "  'pub_date': '2020',\n",
       "  'pub_info': ' In Gillian Dobbie, Ulrich Frank, Gerti Kappel, Stephen W. Liddle & Heinrich C. Mayr (eds.), Conceptual Modeling - 39th International Conference, {ER} 2020, Vienna, Austria, November 3-6, 2020, Proceedings. Lecture Notes in Computer Science 12400. pp. 364-374.',\n",
       "  'links': 'https://philpapers.org/rec/PORACO-6'},\n",
       " {'author': [<span class=\"name\">Barry Smith</span>],\n",
       "  'title': 'Ontology as Product-Service System: Lessons Learned From GO, BFO and DOLCE.',\n",
       "  'pub_date': '2019',\n",
       "  'pub_info': ' In Proceedings of the 10th International Conference on Biomedical Ontology (ICBO), Buffalo, NY.',\n",
       "  'links': 'https://philpapers.org/rec/SMIOAP-5'},\n",
       " {'author': [<span class=\"name\">Barry Smith</span>,\n",
       "   <span class=\"name\">Farhad Ameri</span>,\n",
       "   <span class=\"name\">Hyunmin Cheong</span>,\n",
       "   <span class=\"name\">Dimitris Kiritsis</span>,\n",
       "   <span class=\"name\">Dusan Sormaz</span>,\n",
       "   <span class=\"name\">Chris Will</span>,\n",
       "   <span class=\"name\">J. Neil Otte</span>],\n",
       "  'title': 'A First-Order Logic Formalization of the Industrial Ontology Foundry Signature Using Basic Formal Ontology.',\n",
       "  'pub_date': '2019',\n",
       "  'pub_info': ' In Proceedings of the Joint Ontology Workshops (JOWO), Graz.',\n",
       "  'links': 'https://philpapers.org/rec/SMIAFL-3'},\n",
       " {'author': [<span class=\"name\">Niels Grewe</span>,\n",
       "   <span class=\"name\">Ludger Jansen</span>,\n",
       "   <span class=\"name\">Barry Smith</span>],\n",
       "  'title': 'Permanent Generic Relatedness and Silent Change.',\n",
       "  'pub_date': '2016',\n",
       "  'pub_info': ' In Formal Ontology and Information Systems. CEUR, Vol. 1060. pp. 1-5.',\n",
       "  'links': 'https://philpapers.org/rec/GREPGR'},\n",
       " {'author': [<span class=\"name\">Ong Edison: Xiang</span>,\n",
       "   <span class=\"name\">Zheng Jie</span>,\n",
       "   <span class=\"name\">Barry Smith</span>,\n",
       "   <span class=\"name\">He Yongqun</span>],\n",
       "  'title': 'Ontobull and BFOConvert: Web-Based Programs to Support Automatic Ontology Conversion.',\n",
       "  'pub_date': '2016',\n",
       "  'pub_info': ' Proceedings of the Joint International Conference on Biological Ontology and Biocreative 1747.',\n",
       "  'links': 'https://philpapers.org/rec/ONGOAB'},\n",
       " {'author': [<span class=\"name\">Robert Arp</span>,\n",
       "   <span class=\"name\">Barry Smith</span>,\n",
       "   <span class=\"name\">Andrew D. Spear</span>],\n",
       "  'title': 'Building Ontologies with Basic Formal Ontology.',\n",
       "  'pub_date': '2015',\n",
       "  'pub_info': ' Cambridge, MA: MIT Press.',\n",
       "  'links': 'https://philpapers.org/rec/ARPBOW'},\n",
       " {'author': [<span class=\"name\">Barry Smith</span>,\n",
       "   <span class=\"name\">Kevin Mulligan</span>],\n",
       "  'title': 'Framework for Formal Ontology.',\n",
       "  'pub_date': '1983',\n",
       "  'pub_info': ' Topoi 2 (1):73-85.',\n",
       "  'links': 'https://philpapers.org/rec/SMIFFF'}]"
      ]
     },
     "execution_count": 13,
     "metadata": {},
     "output_type": "execute_result"
    }
   ],
   "source": [
    "entries"
   ]
  },
  {
   "cell_type": "code",
   "execution_count": 14,
   "id": "5866ef80-d7a4-4aa4-a827-71553ad4b965",
   "metadata": {},
   "outputs": [],
   "source": [
    "browser.quit()\n"
   ]
  }
 ],
 "metadata": {
  "kernelspec": {
   "display_name": "Python 3 (ipykernel)",
   "language": "python",
   "name": "python3"
  },
  "language_info": {
   "codemirror_mode": {
    "name": "ipython",
    "version": 3
   },
   "file_extension": ".py",
   "mimetype": "text/x-python",
   "name": "python",
   "nbconvert_exporter": "python",
   "pygments_lexer": "ipython3",
   "version": "3.9.7"
  }
 },
 "nbformat": 4,
 "nbformat_minor": 5
}
